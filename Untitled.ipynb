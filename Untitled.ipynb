{
 "cells": [
  {
   "cell_type": "markdown",
   "metadata": {},
   "source": [
    "# Introduction\n",
    "\n",
    "Python is a popular programming language. It was created by Guido van Rossum, and released in 1991.\n",
    "It is used for:\n",
    "\n",
    "  - web development (server-side),\n",
    "  - software development,\n",
    "  - mathematics,\n",
    "  - system scripting.\n",
    "\n",
    "    ## What can Python do?\n",
    "\n",
    "   - Python can be used on a server to create web applications.\n",
    "   - Python can be used alongside software to create workflows.\n",
    "   - Python can connect to database systems. It can also read and modify files.\n",
    "   - Python can be used to handle big data and perform complex mathematics.\n",
    "   - Python can be used for rapid prototyping, or for production-ready software development.\n",
    "\n",
    "## Why Python?\n",
    "\n",
    "   - Python works on different platforms (Windows, Mac, Linux, Raspberry Pi, etc).\n",
    "   - Python has a simple syntax similar to the English language.\n",
    "   - Python has syntax that allows developers to write programs with fewer lines than some other programming languages.\n",
    "   - Python runs on an interpreter system, meaning that code can be executed as soon as it is written. This means that prototyping can be very quick.\n",
    "   - Python can be treated in a procedural way, an object-orientated way or a functional way.\n"
   ]
  },
  {
   "cell_type": "markdown",
   "metadata": {},
   "source": [
    "# Data Types"
   ]
  },
  {
   "cell_type": "markdown",
   "metadata": {},
   "source": []
  },
  {
   "cell_type": "code",
   "execution_count": null,
   "metadata": {},
   "outputs": [],
   "source": []
  }
 ],
 "metadata": {
  "kernelspec": {
   "display_name": "Python 2",
   "language": "python",
   "name": "python2"
  },
  "language_info": {
   "codemirror_mode": {
    "name": "ipython",
    "version": 2
   },
   "file_extension": ".py",
   "mimetype": "text/x-python",
   "name": "python",
   "nbconvert_exporter": "python",
   "pygments_lexer": "ipython2",
   "version": "2.7.16"
  }
 },
 "nbformat": 4,
 "nbformat_minor": 2
}
