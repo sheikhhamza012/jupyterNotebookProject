{
 "cells": [
  {
   "cell_type": "markdown",
   "metadata": {},
   "source": [
    "# Introduction\n",
    "\n",
    "Python is a popular programming language. It was created by Guido van Rossum, and released in 1991.\n",
    "It is used for:\n",
    "\n",
    "  - web development (server-side),\n",
    "  - software development,\n",
    "  - mathematics,\n",
    "  - system scripting.\n",
    "\n",
    "## What can Python do?\n",
    "\n",
    "   - Python can be used on a server to create web applications.\n",
    "   - Python can be used alongside software to create workflows.\n",
    "   - Python can connect to database systems. It can also read and modify files.\n",
    "   - Python can be used to handle big data and perform complex mathematics.\n",
    "   - Python can be used for rapid prototyping, or for production-ready software development.\n",
    "\n",
    "## Why Python?\n",
    "\n",
    "   - Python works on different platforms (Windows, Mac, Linux, Raspberry Pi, etc).\n",
    "   - Python has a simple syntax similar to the English language.\n",
    "   - Python has syntax that allows developers to write programs with fewer lines than some other programming languages.\n",
    "   - Python runs on an interpreter system, meaning that code can be executed as soon as it is written. This means that prototyping can be very quick.\n",
    "   - Python can be treated in a procedural way, an object-orientated way or a functional way.\n",
    "\n",
    "## Python Syntax compared to other programming languages\n",
    "\n",
    "   - Python was designed for readability, and has some similarities to the English language with influence from mathematics.\n",
    "   - Python uses new lines to complete a command, as opposed to other programming languages which often use semicolons or parentheses.\n",
    "   - Python relies on indentation, using whitespace, to define scope; such as the scope of loops, functions and classes. Other programming languages often use curly-brackets for this purpose.\n"
   ]
  },
  {
   "cell_type": "markdown",
   "metadata": {},
   "source": [
    "# Data Types\n",
    "python datatypes has a variety of types needed for modern computing task, it has a big opensource comunity constantly working for new types \n",
    "## Variables \n",
    "Variables are containers for storing data values.\n",
    "Unlike other programming languages, Python has no command for declaring a variable.\n",
    "A variable is created the moment you first assign a value to it\n",
    "in other high level languages their types are explicitly defined\n",
    "### why\n",
    "variables are used to store information on the runtime so whenever we do calculations we store the answer of the calculation in a variable that can be used after in other calculations\n",
    "### when\n",
    "when ever we want to take value from user we use variable to store the input and do further calculations using the variable\n",
    "### where\n",
    "we use variables where ever it is needed<br>\n",
    "**Example of c** \n",
    "- int a = 10;\n",
    "- float b = 10.0; \n",
    "- String c = \"hello/0\"<br><br>\n",
    "\n",
    "**In Python**"
   ]
  },
  {
   "cell_type": "code",
   "execution_count": 8,
   "metadata": {},
   "outputs": [
    {
     "name": "stdout",
     "output_type": "stream",
     "text": [
      "10\n"
     ]
    }
   ],
   "source": [
    "a = 10\n",
    "print(a)"
   ]
  },
  {
   "cell_type": "code",
   "execution_count": 10,
   "metadata": {},
   "outputs": [
    {
     "name": "stdout",
     "output_type": "stream",
     "text": [
      "10.0\n"
     ]
    }
   ],
   "source": [
    "b = 10.0\n",
    "print(b)"
   ]
  },
  {
   "cell_type": "code",
   "execution_count": 13,
   "metadata": {},
   "outputs": [
    {
     "name": "stdout",
     "output_type": "stream",
     "text": [
      "hello \n"
     ]
    }
   ],
   "source": [
    "c= \"hello \"\n",
    "print(c)"
   ]
  },
  {
   "cell_type": "markdown",
   "metadata": {},
   "source": [
    "there are many types of variables or datatypes in python a few are explained below.\n",
    "## Numbers\n",
    "in any other high level language like c there are multiple data types just for numbers, i-e there are saperate data types for **integers,integers with large values, decimal numbers, decimals with large values** \n",
    "- for integers c uses int keyword\n",
    "- for large numbers long keyword is used\n",
    "- for decimals float is used\n",
    "- for big decimals double is used\n",
    "but in python we donot need to explicitle define what type of number are we going to use \n",
    "### why\n",
    "we use numbers for calculations to give instructions to computer to solve on those numbers\n",
    "### when\n",
    "we use it whenever a calculation is to be made \n",
    "### where \n",
    "we can use them anywhere in the program"
   ]
  },
  {
   "cell_type": "code",
   "execution_count": 20,
   "metadata": {},
   "outputs": [
    {
     "data": {
      "text/plain": [
       "100000000000000000000000000000000000000000000000000000000000000L"
      ]
     },
     "execution_count": 20,
     "metadata": {},
     "output_type": "execute_result"
    }
   ],
   "source": [
    "100000000000000000000000000000000000000000000000000000000000000\n"
   ]
  },
  {
   "cell_type": "code",
   "execution_count": 22,
   "metadata": {},
   "outputs": [
    {
     "data": {
      "text/plain": [
       "10111111.222"
      ]
     },
     "execution_count": 22,
     "metadata": {},
     "output_type": "execute_result"
    }
   ],
   "source": [
    "10111111.222\n"
   ]
  },
  {
   "cell_type": "code",
   "execution_count": 24,
   "metadata": {},
   "outputs": [
    {
     "data": {
      "text/plain": [
       "10"
      ]
     },
     "execution_count": 24,
     "metadata": {},
     "output_type": "execute_result"
    }
   ],
   "source": [
    "10\n"
   ]
  },
  {
   "cell_type": "markdown",
   "metadata": {},
   "source": [
    "## Strings \n",
    "this type of variables are used to store literal information in form of alphabetic characters.it is an array of characters placed together. we can use saperate characters of a String if needed as it is an array\n",
    "### why\n",
    "we use strings to store information in natural language \n",
    "### when \n",
    "we use it when we have to get value from user ,eg we want to take name of user as input and display it later then strings are useful\n",
    "### where\n",
    "we can use it where ever we want <br>\n",
    "**in C**\n",
    "we use the keyword String a= \"hello\";\n",
    "**In Python**\n"
   ]
  },
  {
   "cell_type": "code",
   "execution_count": 25,
   "metadata": {},
   "outputs": [
    {
     "data": {
      "text/plain": [
       "'hamza'"
      ]
     },
     "execution_count": 25,
     "metadata": {},
     "output_type": "execute_result"
    }
   ],
   "source": [
    "\"hamza\""
   ]
  },
  {
   "cell_type": "code",
   "execution_count": 26,
   "metadata": {},
   "outputs": [
    {
     "name": "stdout",
     "output_type": "stream",
     "text": [
      "lahore\n"
     ]
    }
   ],
   "source": [
    "a=\"lahore\"\n",
    "print a\n"
   ]
  },
  {
   "cell_type": "code",
   "execution_count": 27,
   "metadata": {},
   "outputs": [
    {
     "name": "stdout",
     "output_type": "stream",
     "text": [
      "('hamza', 'lahore')\n"
     ]
    }
   ],
   "source": [
    "a=\"hamza\"\n",
    "b=\"lahore\"\n",
    "print (a,b)"
   ]
  },
  {
   "cell_type": "markdown",
   "metadata": {},
   "source": [
    "### Access characters of string saperately\n",
    "to access a character of string we treat it as we treat an array we use string name and index of character in the string \n",
    "- to access a substring saperate staring and ending index with a colon\n",
    "- to access single char give its index\n",
    "#### why\n",
    "to retrieve value saved\n",
    "#### when \n",
    "when ever we want to get stored value\n",
    "#### where \n",
    "where ever we want the value of string "
   ]
  },
  {
   "cell_type": "code",
   "execution_count": 29,
   "metadata": {},
   "outputs": [
    {
     "name": "stdout",
     "output_type": "stream",
     "text": [
      "hamza\n"
     ]
    }
   ],
   "source": [
    "\n",
    "print(\"hamza\")"
   ]
  },
  {
   "cell_type": "code",
   "execution_count": 30,
   "metadata": {},
   "outputs": [
    {
     "name": "stdout",
     "output_type": "stream",
     "text": [
      "hamza\n"
     ]
    }
   ],
   "source": [
    "a=\"hamza\"\n",
    "print(a)"
   ]
  },
  {
   "cell_type": "code",
   "execution_count": 31,
   "metadata": {},
   "outputs": [
    {
     "name": "stdout",
     "output_type": "stream",
     "text": [
      "a\n"
     ]
    }
   ],
   "source": [
    "a=\"hamza\"\n",
    "print(a[1])"
   ]
  },
  {
   "cell_type": "code",
   "execution_count": 32,
   "metadata": {},
   "outputs": [
    {
     "name": "stdout",
     "output_type": "stream",
     "text": [
      "amz\n"
     ]
    }
   ],
   "source": [
    "a=\"hamza\"\n",
    "print(a[1:4])"
   ]
  },
  {
   "cell_type": "code",
   "execution_count": 36,
   "metadata": {},
   "outputs": [
    {
     "name": "stdout",
     "output_type": "stream",
     "text": [
      "ham\n"
     ]
    }
   ],
   "source": [
    "a=\"hamza\"\n",
    "print(a[:3])"
   ]
  },
  {
   "cell_type": "code",
   "execution_count": 37,
   "metadata": {
    "scrolled": true
   },
   "outputs": [
    {
     "name": "stdout",
     "output_type": "stream",
     "text": [
      "ham\n"
     ]
    }
   ],
   "source": [
    "a=\"hamza\"\n",
    "print(a[0:3])"
   ]
  },
  {
   "cell_type": "markdown",
   "metadata": {},
   "source": [
    "### appending \n",
    "python strings can be easily joined just by using a + sign between, even if we want to add a single character in string we can do it with this method\n",
    "#### why\n",
    "we use it when we have two saperate strings and we want to use it as a single string \n",
    "#### when \n",
    "we can join them any time \n",
    "#### where \n",
    "we can join them anywhere in the program"
   ]
  },
  {
   "cell_type": "code",
   "execution_count": 40,
   "metadata": {},
   "outputs": [
    {
     "data": {
      "text/plain": [
       "'hamza'"
      ]
     },
     "execution_count": 40,
     "metadata": {},
     "output_type": "execute_result"
    }
   ],
   "source": [
    "\"ham\"+\"za\"\n"
   ]
  },
  {
   "cell_type": "code",
   "execution_count": 41,
   "metadata": {},
   "outputs": [
    {
     "name": "stdout",
     "output_type": "stream",
     "text": [
      "hamza\n"
     ]
    }
   ],
   "source": [
    "a=\"ham\"\n",
    "b=\"za\"\n",
    "c=a+b\n",
    "print c"
   ]
  },
  {
   "cell_type": "code",
   "execution_count": 42,
   "metadata": {},
   "outputs": [
    {
     "name": "stdout",
     "output_type": "stream",
     "text": [
      "hamza\n"
     ]
    }
   ],
   "source": [
    "a=\"hamz\"\n",
    "print a+\"a\""
   ]
  },
  {
   "cell_type": "markdown",
   "metadata": {},
   "source": [
    "### Updating a string\n",
    "we can update the entire string value or a sub string value or just a character in the string \n",
    "- to update a string value replace the variable with a new string \n",
    "- to update a section of string use [start:end] of previous string which you want to add and appenf it with new section and store it in variable\n",
    "- update a char use in string append new char to section before and after"
   ]
  },
  {
   "cell_type": "code",
   "execution_count": 38,
   "metadata": {},
   "outputs": [
    {
     "name": "stdout",
     "output_type": "stream",
     "text": [
      "hamza\n",
      "lahore\n"
     ]
    }
   ],
   "source": [
    "a=\"hamza\"\n",
    "print a\n",
    "a=\"lahore\"\n",
    "print a"
   ]
  },
  {
   "cell_type": "code",
   "execution_count": 43,
   "metadata": {},
   "outputs": [
    {
     "name": "stdout",
     "output_type": "stream",
     "text": [
      "hamaaa\n"
     ]
    }
   ],
   "source": [
    "a=\"hamza\"\n",
    "a=a[0:3]+\"aaa\"\n",
    "print a"
   ]
  },
  {
   "cell_type": "code",
   "execution_count": 45,
   "metadata": {},
   "outputs": [
    {
     "name": "stdout",
     "output_type": "stream",
     "text": [
      "himza\n"
     ]
    }
   ],
   "source": [
    "a=\"hamza\"\n",
    "a=a[0]+\"i\"+a[2:5]\n",
    "print a"
   ]
  },
  {
   "cell_type": "markdown",
   "metadata": {},
   "source": [
    "### Deleting string \n",
    "to delete a string variable from memory use the keyword del before the variable name it then deletes it from the memory of program \n",
    "#### why\n",
    "we may have to delete it because it is no longer in use \n",
    "#### when \n",
    "we can delete it any time \n",
    "#### where \n",
    "we delete it after it is last used\n"
   ]
  },
  {
   "cell_type": "code",
   "execution_count": 49,
   "metadata": {},
   "outputs": [
    {
     "name": "stdout",
     "output_type": "stream",
     "text": [
      "asd\n"
     ]
    }
   ],
   "source": [
    "a= \"asd\"\n",
    "print a\n",
    "del a"
   ]
  },
  {
   "cell_type": "code",
   "execution_count": 50,
   "metadata": {},
   "outputs": [
    {
     "ename": "NameError",
     "evalue": "name 'a' is not defined",
     "output_type": "error",
     "traceback": [
      "\u001b[0;31m---------------------------------------------------------------------------\u001b[0m",
      "\u001b[0;31mNameError\u001b[0m                                 Traceback (most recent call last)",
      "\u001b[0;32m<ipython-input-50-726771278365>\u001b[0m in \u001b[0;36m<module>\u001b[0;34m()\u001b[0m\n\u001b[1;32m      1\u001b[0m \u001b[0ma\u001b[0m\u001b[0;34m=\u001b[0m \u001b[0;34m\"asd\"\u001b[0m\u001b[0;34m\u001b[0m\u001b[0m\n\u001b[1;32m      2\u001b[0m \u001b[0;32mdel\u001b[0m \u001b[0ma\u001b[0m\u001b[0;34m\u001b[0m\u001b[0m\n\u001b[0;32m----> 3\u001b[0;31m \u001b[0;32mprint\u001b[0m \u001b[0ma\u001b[0m\u001b[0;34m\u001b[0m\u001b[0m\n\u001b[0m",
      "\u001b[0;31mNameError\u001b[0m: name 'a' is not defined"
     ]
    }
   ],
   "source": [
    "a= \"asd\"\n",
    "del a\n",
    "print a"
   ]
  },
  {
   "cell_type": "markdown",
   "metadata": {},
   "source": [
    "### special operators on string \n",
    "we can use one or all operators \n",
    "- [] to access a char at index\n",
    "- '+' to append to str\n",
    "- : in [] between two numbers to get substring\n",
    "- '*' to repeat\n",
    "- \"in\" to see if substring exists in a string \n",
    "- \"not in\" to check confirm a substring is not a part of string \n",
    "#### why\n",
    "these are handy operator that save us from a lot of boiler plate coding \n",
    "#### when\n",
    "we can use it anytime\n",
    "#### where\n",
    "where ever we need these operators, printing/processing "
   ]
  },
  {
   "cell_type": "code",
   "execution_count": 51,
   "metadata": {},
   "outputs": [
    {
     "name": "stdout",
     "output_type": "stream",
     "text": [
      "hamzahamza\n"
     ]
    }
   ],
   "source": [
    "a=\"hamza\"\n",
    "print a*2"
   ]
  },
  {
   "cell_type": "code",
   "execution_count": 52,
   "metadata": {},
   "outputs": [
    {
     "name": "stdout",
     "output_type": "stream",
     "text": [
      "a\n"
     ]
    }
   ],
   "source": [
    "print a[1]"
   ]
  },
  {
   "cell_type": "code",
   "execution_count": 53,
   "metadata": {},
   "outputs": [
    {
     "name": "stdout",
     "output_type": "stream",
     "text": [
      "amz\n"
     ]
    }
   ],
   "source": [
    "print a[1:4]"
   ]
  },
  {
   "cell_type": "code",
   "execution_count": 54,
   "metadata": {},
   "outputs": [
    {
     "name": "stdout",
     "output_type": "stream",
     "text": [
      "hamzaB\n"
     ]
    }
   ],
   "source": [
    "print a+\"B\""
   ]
  },
  {
   "cell_type": "code",
   "execution_count": 55,
   "metadata": {},
   "outputs": [
    {
     "name": "stdout",
     "output_type": "stream",
     "text": [
      "True\n"
     ]
    }
   ],
   "source": [
    "print \"a\" in a"
   ]
  },
  {
   "cell_type": "code",
   "execution_count": 56,
   "metadata": {},
   "outputs": [
    {
     "name": "stdout",
     "output_type": "stream",
     "text": [
      "False\n"
     ]
    }
   ],
   "source": [
    "print \"a\" not in a\n"
   ]
  },
  {
   "cell_type": "markdown",
   "metadata": {},
   "source": [
    "### formating \n",
    "we can use exact formating pattern in python as we used in c a few formatting operators are \n",
    "- %s is for string \n",
    "- %d is for int\n",
    "- %f is for float\n",
    "- %x is for hex\n",
    "#### why\n",
    "to make string and inject values later\n",
    "#### where \n",
    "anywhere in the program\n",
    "#### when\n",
    "when ever strings are used "
   ]
  },
  {
   "cell_type": "code",
   "execution_count": 58,
   "metadata": {},
   "outputs": [
    {
     "name": "stdout",
     "output_type": "stream",
     "text": [
      "hamza hamza\n"
     ]
    }
   ],
   "source": [
    "a=1\n",
    "b=2.2\n",
    "c=\"hamza\"\n",
    "d= (\"hamza %s\"%c)\n",
    "print d"
   ]
  },
  {
   "cell_type": "code",
   "execution_count": 61,
   "metadata": {},
   "outputs": [
    {
     "name": "stdout",
     "output_type": "stream",
     "text": [
      "1 hamza\n"
     ]
    }
   ],
   "source": [
    "d=(\"%d %s\"%(a, c))\n",
    "print d"
   ]
  },
  {
   "cell_type": "code",
   "execution_count": 62,
   "metadata": {},
   "outputs": [
    {
     "name": "stdout",
     "output_type": "stream",
     "text": [
      "1 hamza 2.200000\n"
     ]
    }
   ],
   "source": [
    "print (\"%d %s %f\"%(a,c,b))"
   ]
  },
  {
   "cell_type": "code",
   "execution_count": null,
   "metadata": {},
   "outputs": [],
   "source": []
  }
 ],
 "metadata": {
  "kernelspec": {
   "display_name": "Python 2",
   "language": "python",
   "name": "python2"
  },
  "language_info": {
   "codemirror_mode": {
    "name": "ipython",
    "version": 2
   },
   "file_extension": ".py",
   "mimetype": "text/x-python",
   "name": "python",
   "nbconvert_exporter": "python",
   "pygments_lexer": "ipython2",
   "version": "2.7.16"
  }
 },
 "nbformat": 4,
 "nbformat_minor": 2
}
